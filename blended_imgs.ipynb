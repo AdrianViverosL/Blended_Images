{
 "cells": [
  {
   "cell_type": "code",
   "execution_count": 2,
   "metadata": {},
   "outputs": [
    {
     "output_type": "error",
     "ename": "ModuleNotFoundError",
     "evalue": "No module named 'cv2'",
     "traceback": [
      "\u001b[0;31m---------------------------------------------------------------------------\u001b[0m",
      "\u001b[0;31mModuleNotFoundError\u001b[0m                       Traceback (most recent call last)",
      "\u001b[0;32m<ipython-input-2-d52779c58f82>\u001b[0m in \u001b[0;36m<module>\u001b[0;34m\u001b[0m\n\u001b[0;32m----> 1\u001b[0;31m \u001b[0;32mimport\u001b[0m \u001b[0mcv2\u001b[0m\u001b[0;34m\u001b[0m\u001b[0;34m\u001b[0m\u001b[0m\n\u001b[0m\u001b[1;32m      2\u001b[0m \u001b[0;34m\u001b[0m\u001b[0m\n\u001b[1;32m      3\u001b[0m \u001b[0;32mimport\u001b[0m \u001b[0mnumpy\u001b[0m \u001b[0;32mas\u001b[0m \u001b[0mnp\u001b[0m\u001b[0;34m\u001b[0m\u001b[0;34m\u001b[0m\u001b[0m\n\u001b[1;32m      4\u001b[0m \u001b[0;34m\u001b[0m\u001b[0m\n\u001b[1;32m      5\u001b[0m \u001b[0;32mimport\u001b[0m \u001b[0mos\u001b[0m\u001b[0;34m,\u001b[0m \u001b[0mtime\u001b[0m\u001b[0;34m\u001b[0m\u001b[0;34m\u001b[0m\u001b[0m\n",
      "\u001b[0;31mModuleNotFoundError\u001b[0m: No module named 'cv2'"
     ]
    }
   ],
   "source": [
    "import cv2\n",
    "\n",
    "import numpy as np \n",
    "\n",
    "import os, time\n",
    "\n",
    "# first we define the folder that contains the images\n",
    "my_folder = 'blendedimages'\n",
    "# we create a blank image of the same dimension as the images inside de folder\n",
    "imgfirst = np.zeros((640,480,3), np.uint8)\n",
    "# we define the location of the folder\n",
    "my_location = \"/Users/adsvluqs/\" + my_folder\n",
    "# we loop through the files inside the folder\n",
    "for file in os.listdir(my_location):\n",
    "    # we read a file    \n",
    "    img = cv2.imread(my_location + '/' + file)\n",
    "    #img_resize = cv2.resize(img, (453, 604))\n",
    "    # blending formula from cv2 docs:\n",
    "    # dst = alpha*img1 + beta*img2 + gamma, where gamma = 0\n",
    "    # we create a loop from 1-10 (including 10) to apply alpha \n",
    "    for alpha in range(1, 11):\n",
    "    # we divide alpha by 10 to create a float\n",
    "        alpha = alpha/10.0\n",
    "        # to create a transition effect, beta must be:\n",
    "        beta = 1 - alpha\n",
    "        # we load the transition into the image canvas\n",
    "        cv2.imshow('album', cv2.addWeighted(img, alpha, imgfirst, beta, 0.0))\n",
    "        time.sleep(0.1)\n",
    "        if cv2.waitKey(1) & 0xff == ord('q'):\n",
    "            break\n",
    "        if cv2.waitKey(0) & 0xff == ord('q'):\n",
    "            break\n",
    "        # we assign the img to the first one\n",
    "imgfirst = img\n",
    "cv2.destroyAllWindows()"
   ]
  },
  {
   "cell_type": "code",
   "execution_count": null,
   "metadata": {},
   "outputs": [],
   "source": []
  }
 ],
 "metadata": {
  "kernelspec": {
   "display_name": "Python 3",
   "language": "python",
   "name": "python3"
  },
  "language_info": {
   "codemirror_mode": {
    "name": "ipython",
    "version": 3
   },
   "file_extension": ".py",
   "mimetype": "text/x-python",
   "name": "python",
   "nbconvert_exporter": "python",
   "pygments_lexer": "ipython3",
   "version": "3.8.5-final"
  }
 },
 "nbformat": 4,
 "nbformat_minor": 4
}